{
 "cells": [
  {
   "cell_type": "code",
   "execution_count": 1,
   "metadata": {
    "collapsed": true
   },
   "outputs": [],
   "source": [
    "import pandas as pd\n"
   ]
  },
  {
   "cell_type": "markdown",
   "metadata": {
    "collapsed": true
   },
   "source": [
    "# The data\n",
    "The place-name data I'm using comes from https://www.census.gov/geo/maps-data/data/gazetteer.html\n",
    "\n",
    ">Download U.S. gazetteer files for American Indian/Alaska Native/Native Hawaiian Areas, census tracts, Congressional Districts, counties, county subdivisions (minor civil divisions/census county divisions), places, school districts (elementary, secondary, and unified), state legislative districts (upper and lower), urban areas, and ZIP Code tabulation areas (ZCTAs). These gazetteer files match the vintage of the American Community Survey (ACS) data available from the Census Bureau for that year. For example, the 2012 Census U.S. Gazetteer files match the 2012 ACS data.\n",
    "\n",
    "There's more data at the US Board of Geographic Names, but I'll tackle the smaller dataset first.  https://geonames.usgs.gov/domestic/index.html\n"
   ]
  },
  {
   "cell_type": "code",
   "execution_count": null,
   "metadata": {
    "collapsed": true
   },
   "outputs": [],
   "source": []
  }
 ],
 "metadata": {
  "kernelspec": {
   "display_name": "Python 3",
   "language": "python",
   "name": "python3"
  },
  "language_info": {
   "codemirror_mode": {
    "name": "ipython",
    "version": 3
   },
   "file_extension": ".py",
   "mimetype": "text/x-python",
   "name": "python",
   "nbconvert_exporter": "python",
   "pygments_lexer": "ipython3",
   "version": "3.5.2"
  }
 },
 "nbformat": 4,
 "nbformat_minor": 2
}
